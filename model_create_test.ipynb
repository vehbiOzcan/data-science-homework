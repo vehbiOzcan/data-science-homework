{
 "cells": [
  {
   "cell_type": "markdown",
   "metadata": {},
   "source": [
    "<h1> Uygulamalı Veri Bilimi Ödevi Veri Analiz Bölümü </h1>"
   ]
  },
  {
   "cell_type": "markdown",
   "metadata": {},
   "source": [
    "<h3>İsim: Vehbi Özcan</h3>\n",
    "<h3>Numara: 211220070</h3>"
   ]
  },
  {
   "cell_type": "markdown",
   "metadata": {},
   "source": [
    "## Import Bölümü"
   ]
  },
  {
   "cell_type": "code",
   "execution_count": null,
   "metadata": {},
   "outputs": [],
   "source": [
    "import pandas as pd\n",
    "import numpy as np\n",
    "#Preprocessing işlemleri için\n",
    "from sklearn.preprocessing import LabelEncoder\n",
    "from sklearn.preprocessing import OneHotEncoder\n",
    "from sklearn.preprocessing import MinMaxScaler\n",
    "#Eğitim verisini parçalamak için \n",
    "from sklearn.model_selection import train_test_split\n",
    "#Model Kayıt İşlemleri ve Model Yüklemek İçin Joblib\n",
    "from joblib import Parallel, delayed \n",
    "import joblib \n",
    "#XGBoost Classifier\n",
    "import xgboost as xgb\n",
    "#Accuracy Score Metrics\n",
    "from sklearn.metrics import accuracy_score\n",
    "\n"
   ]
  },
  {
   "cell_type": "markdown",
   "metadata": {},
   "source": [
    "## Veriyi Okuma"
   ]
  },
  {
   "cell_type": "code",
   "execution_count": null,
   "metadata": {},
   "outputs": [],
   "source": [
    "org_data_ = pd.read_excel('data.xlsx')\n",
    "#data = org_data.copy()\n",
    "#org_data.head()\n"
   ]
  },
  {
   "cell_type": "code",
   "execution_count": null,
   "metadata": {},
   "outputs": [],
   "source": [
    "df_ = org_data_.copy()\n",
    "df_.head()"
   ]
  },
  {
   "cell_type": "markdown",
   "metadata": {},
   "source": [
    "## Preprocessing"
   ]
  },
  {
   "cell_type": "code",
   "execution_count": null,
   "metadata": {},
   "outputs": [],
   "source": [
    "# df[\"Bellek Hızı\"].fillna(value=\"3200 MHz\", inplace=True)\n",
    "# df[\"Cihaz Ağırlığı\"].fillna(value=\"1 - 2 kg\", inplace=True)\n",
    "# df[\"Ekran Boyutu\"].fillna(value=\"15,6 inç\", inplace=True)\n",
    "# df[\"Ekran Kartı Bellek Tipi\"].fillna(value=\"Onboard\", inplace=True)\n",
    "# df[\"Ekran Kartı Hafızası\"].fillna(value=\"Paylaşımlı\", inplace=True)\n",
    "# df[\"Ekran Kartı Tipi\"].fillna(value=\"Dahili Ekran Kartı\", inplace=True)\n",
    "# df[\"Ekran Panel Tipi\"].fillna(value=\"IPS\", inplace=True)\n",
    "# df[\"İşlemci Nesli\"].fillna(value=\"11.Nesil\", inplace=True)\n",
    "# df[\"İşlemci\"].fillna(value=\"1135G7\", inplace=True)\n",
    "# df[\"İşletim Sistemi\"].fillna(value=\"Yok (Free Dos)\", inplace=True)\n",
    "# df[\"Kart Okuyucu\"].fillna(value=\"Var\", inplace=True)\n",
    "# df[\"Aydınlatma\"].fillna(value=0, inplace=True)\n",
    "# df[\"Maksimum İşlemci Hızı\"].fillna(value=\"4,7 GHz\", inplace=True)\n",
    "# df[\"Max Ekran Çözünürlüğü\"].fillna(value=\"1920 x 1080\", inplace=True)\n",
    "# df[\"Parmak İzi Okuyucu\"].fillna(value=\"Yok\", inplace=True)\n",
    "# df[\"Ram (Sistem Belleği)\"].fillna(value=\"16 GB\", inplace=True)\n",
    "# df[\"SSD Kapasitesi\"].fillna(value=\"512 GB\", inplace=True)\n",
    "# df[\"Ürün Modeli\"].fillna(value=\"Notebook\", inplace=True)\n",
    "# df[\"Fiyat\"].fillna(value=\"Düşük\", inplace=True)\n",
    "\n"
   ]
  },
  {
   "cell_type": "markdown",
   "metadata": {},
   "source": [
    "### Boş Verileri Doldurma Fonksiyonu"
   ]
  },
  {
   "cell_type": "code",
   "execution_count": null,
   "metadata": {},
   "outputs": [],
   "source": [
    "def fill_value(df):\n",
    "    for column in df.columns:\n",
    "        df[column].fillna(value = df[column].mode()[0], inplace=True)\n",
    "    return df"
   ]
  },
  {
   "cell_type": "markdown",
   "metadata": {},
   "source": [
    "### Aykırı ve Gürültülü Verileri Düzeltme Fonksiyonu\n"
   ]
  },
  {
   "cell_type": "code",
   "execution_count": null,
   "metadata": {},
   "outputs": [],
   "source": [
    "def fix_value(df):\n",
    "    df['İşlemci'].replace('10. Nesil Intel® Core™ i3-10110U işlemci', '10110U',inplace=True)\n",
    "    df['İşlemci Nesli'].replace('10. Nesil', '10.Nesil',inplace=True)\n",
    "    df['SSD Kapasitesi'].replace(' 0 GB', '0 GB',inplace=True)\n",
    "    df['Ram (Sistem Belleği)'].replace('8\\xa0GB', '8 GB',inplace=True)\n",
    "    return df"
   ]
  },
  {
   "cell_type": "markdown",
   "metadata": {},
   "source": [
    "### Normalizasyon (MinMaxScaler) Fonksiyonu"
   ]
  },
  {
   "cell_type": "code",
   "execution_count": null,
   "metadata": {},
   "outputs": [],
   "source": [
    "def df_minmaxscaler(le_df):\n",
    "    scaler = MinMaxScaler()\n",
    "    le_dfr = np.reshape(le_df,(-1,1))\n",
    "    le_dfr = le_dfr.astype(float)\n",
    "    le_dfs = scaler.fit_transform(le_dfr)\n",
    "    le_dfs = le_dfs.flatten()\n",
    "    return le_dfs"
   ]
  },
  {
   "cell_type": "markdown",
   "metadata": {},
   "source": [
    "### Encoding (One Hot Encoder ve LabelEncoder) Fonksiyonu"
   ]
  },
  {
   "cell_type": "code",
   "execution_count": null,
   "metadata": {},
   "outputs": [],
   "source": [
    "def df_encode(df):\n",
    "    ohe = OneHotEncoder(handle_unknown='ignore', sparse_output=False).set_output(transform='pandas')\n",
    "    le = LabelEncoder()\n",
    "    columns = df.columns.to_list()\n",
    "    columns.remove(\"Fiyat\")\n",
    "    encoded_df = ohe.fit_transform(df[columns])\n",
    "    le_df = le.fit_transform(df[\"Fiyat\"])\n",
    "    #le_dfs = df_minmaxscaler(le_df)\n",
    "    #encoded_df[\"Fiyat\"] = le_dfs\n",
    "    encoded_df[\"Fiyat\"] = le_df\n",
    "    return encoded_df"
   ]
  },
  {
   "cell_type": "markdown",
   "metadata": {},
   "source": [
    "## Preprocessing Function"
   ]
  },
  {
   "cell_type": "code",
   "execution_count": null,
   "metadata": {},
   "outputs": [],
   "source": [
    "def preprocess(df):\n",
    "    df = fill_value(df)\n",
    "    df = fix_value(df)\n",
    "    encoded_df = df_encode(df)\n",
    "    return encoded_df"
   ]
  },
  {
   "cell_type": "code",
   "execution_count": null,
   "metadata": {},
   "outputs": [],
   "source": [
    "# encoded_df = preprocess(df)\n",
    "# encoded_df\n"
   ]
  },
  {
   "cell_type": "markdown",
   "metadata": {},
   "source": [
    "## Classification Function"
   ]
  },
  {
   "cell_type": "code",
   "execution_count": null,
   "metadata": {},
   "outputs": [],
   "source": [
    "def classification():\n",
    "    org_data = pd.read_excel('data.xlsx')\n",
    "    df = org_data.copy()\n",
    "\n",
    "    encoded_df = preprocess(df)\n",
    "\n",
    "    X = encoded_df.drop([\"Fiyat\"],axis=1) \n",
    "    y = encoded_df[\"Fiyat\"]\n",
    "\n",
    "    X_train, X_test, y_train, y_test = train_test_split(X, y, test_size = 0.20, random_state = 60)\n",
    "\n",
    "    xgb_cls = xgb.XGBClassifier(objective='multiclass:softmax', num_class=5)\n",
    "    xgb_model = xgb_cls.fit(X_train,y_train)\n",
    "    y_pred = xgb_model.predict(X_test)\n",
    "\n",
    "    joblib.dump(xgb_model, 'modelxgb.pkl')\n",
    "    score = accuracy_score(y_test,y_pred)\n",
    "    print(score)\n",
    "    return score\n",
    "\n"
   ]
  },
  {
   "cell_type": "code",
   "execution_count": null,
   "metadata": {},
   "outputs": [],
   "source": [
    "classification()"
   ]
  },
  {
   "cell_type": "markdown",
   "metadata": {},
   "source": [
    "## Test Function"
   ]
  },
  {
   "cell_type": "code",
   "execution_count": null,
   "metadata": {},
   "outputs": [],
   "source": [
    "def test():\n",
    "    test_data = pd.read_excel('data.xlsx')\n",
    "    test_df = test_data.copy()\n",
    "\n",
    "    encoded_df = preprocess(test_df)\n",
    "\n",
    "    X_test = encoded_df.drop([\"Fiyat\"],axis=1) \n",
    "    y_test = encoded_df[\"Fiyat\"]\n",
    "\n",
    "    xgb_model = joblib.load('modelxgb.pkl') \n",
    "    y_pred = xgb_model.predict(X_test)\n",
    "    score = accuracy_score(y_test,y_pred)\n",
    "    print(score)\n",
    "    return score\n"
   ]
  },
  {
   "cell_type": "code",
   "execution_count": null,
   "metadata": {},
   "outputs": [],
   "source": [
    "test()"
   ]
  }
 ],
 "metadata": {
  "kernelspec": {
   "display_name": "Python 3",
   "language": "python",
   "name": "python3"
  },
  "language_info": {
   "codemirror_mode": {
    "name": "ipython",
    "version": 3
   },
   "file_extension": ".py",
   "mimetype": "text/x-python",
   "name": "python",
   "nbconvert_exporter": "python",
   "pygments_lexer": "ipython3",
   "version": "3.11.3"
  }
 },
 "nbformat": 4,
 "nbformat_minor": 2
}
