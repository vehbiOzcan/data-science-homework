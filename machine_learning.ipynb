{
 "cells": [
  {
   "cell_type": "markdown",
   "metadata": {},
   "source": [
    "<h1> Uygulamalı Veri Bilimi Ödevi Veri Analiz Bölümü </h1>"
   ]
  },
  {
   "cell_type": "markdown",
   "metadata": {},
   "source": [
    "<h3>İsim: Vehbi Özcan</h3>\n",
    "<h3>Numara: 211220070</h3>"
   ]
  },
  {
   "cell_type": "markdown",
   "metadata": {},
   "source": [
    "## Import Bölümü"
   ]
  },
  {
   "cell_type": "code",
   "execution_count": 2,
   "metadata": {},
   "outputs": [],
   "source": [
    "import pandas as pd\n",
    "import numpy as np\n"
   ]
  },
  {
   "cell_type": "code",
   "execution_count": 8,
   "metadata": {},
   "outputs": [
    {
     "data": {
      "text/html": [
       "<div>\n",
       "<style scoped>\n",
       "    .dataframe tbody tr th:only-of-type {\n",
       "        vertical-align: middle;\n",
       "    }\n",
       "\n",
       "    .dataframe tbody tr th {\n",
       "        vertical-align: top;\n",
       "    }\n",
       "\n",
       "    .dataframe thead th {\n",
       "        text-align: right;\n",
       "    }\n",
       "</style>\n",
       "<table border=\"1\" class=\"dataframe\">\n",
       "  <thead>\n",
       "    <tr style=\"text-align: right;\">\n",
       "      <th></th>\n",
       "      <th>Bellek Hızı</th>\n",
       "      <th>Cihaz Ağırlığı</th>\n",
       "      <th>Ekran Boyutu</th>\n",
       "      <th>Ekran Kartı Bellek Tipi</th>\n",
       "      <th>Ekran Kartı Hafızası</th>\n",
       "      <th>Ekran Kartı Tipi</th>\n",
       "      <th>Ekran Panel Tipi</th>\n",
       "      <th>İşlemci Nesli</th>\n",
       "      <th>İşlemci</th>\n",
       "      <th>İşletim Sistemi</th>\n",
       "      <th>Kart Okuyucu</th>\n",
       "      <th>Aydınlatma</th>\n",
       "      <th>Maksimum İşlemci Hızı</th>\n",
       "      <th>Max Ekran Çözünürlüğü</th>\n",
       "      <th>Parmak İzi Okuyucu</th>\n",
       "      <th>Ram (Sistem Belleği)</th>\n",
       "      <th>SSD Kapasitesi</th>\n",
       "      <th>Ürün Modeli</th>\n",
       "      <th>Fiyat</th>\n",
       "    </tr>\n",
       "  </thead>\n",
       "  <tbody>\n",
       "    <tr>\n",
       "      <th>0</th>\n",
       "      <td>1066 MHz</td>\n",
       "      <td>NaN</td>\n",
       "      <td>10 inç</td>\n",
       "      <td>NaN</td>\n",
       "      <td>1 GB</td>\n",
       "      <td>NaN</td>\n",
       "      <td>IPS</td>\n",
       "      <td>1.Nesil</td>\n",
       "      <td>1000M</td>\n",
       "      <td>Android</td>\n",
       "      <td>NaN</td>\n",
       "      <td>0</td>\n",
       "      <td>1,05 GHz</td>\n",
       "      <td>NaN</td>\n",
       "      <td>NaN</td>\n",
       "      <td>NaN</td>\n",
       "      <td>1 TB</td>\n",
       "      <td>Notebook</td>\n",
       "      <td>Çok Yüksek</td>\n",
       "    </tr>\n",
       "    <tr>\n",
       "      <th>1</th>\n",
       "      <td>1066 MHz</td>\n",
       "      <td>NaN</td>\n",
       "      <td>10 inç</td>\n",
       "      <td>NaN</td>\n",
       "      <td>1 GB</td>\n",
       "      <td>NaN</td>\n",
       "      <td>IPS</td>\n",
       "      <td>1.Nesil</td>\n",
       "      <td>1000M</td>\n",
       "      <td>Android</td>\n",
       "      <td>NaN</td>\n",
       "      <td>0</td>\n",
       "      <td>1,05 GHz</td>\n",
       "      <td>NaN</td>\n",
       "      <td>NaN</td>\n",
       "      <td>NaN</td>\n",
       "      <td>1 TB</td>\n",
       "      <td>Notebook</td>\n",
       "      <td>Çok Yüksek</td>\n",
       "    </tr>\n",
       "    <tr>\n",
       "      <th>2</th>\n",
       "      <td>1066 MHz</td>\n",
       "      <td>NaN</td>\n",
       "      <td>10 inç</td>\n",
       "      <td>NaN</td>\n",
       "      <td>1 GB</td>\n",
       "      <td>NaN</td>\n",
       "      <td>IPS</td>\n",
       "      <td>1.Nesil</td>\n",
       "      <td>1000M</td>\n",
       "      <td>Android</td>\n",
       "      <td>NaN</td>\n",
       "      <td>0</td>\n",
       "      <td>1,05 GHz</td>\n",
       "      <td>NaN</td>\n",
       "      <td>NaN</td>\n",
       "      <td>NaN</td>\n",
       "      <td>1 TB</td>\n",
       "      <td>Notebook</td>\n",
       "      <td>Orta</td>\n",
       "    </tr>\n",
       "    <tr>\n",
       "      <th>3</th>\n",
       "      <td>3200 MHz</td>\n",
       "      <td>1 - 2 kg</td>\n",
       "      <td>15,6 inç</td>\n",
       "      <td>GDDR4</td>\n",
       "      <td>2 GB</td>\n",
       "      <td>Harici Ekran Kartı</td>\n",
       "      <td>LED</td>\n",
       "      <td>10. Nesil</td>\n",
       "      <td>1035G1</td>\n",
       "      <td>Windows 10 Home</td>\n",
       "      <td>Var</td>\n",
       "      <td>0</td>\n",
       "      <td>3,6 GHz</td>\n",
       "      <td>1920 x 1080</td>\n",
       "      <td>Yok</td>\n",
       "      <td>8 GB</td>\n",
       "      <td>512 GB</td>\n",
       "      <td>Notebook</td>\n",
       "      <td>Düşük</td>\n",
       "    </tr>\n",
       "    <tr>\n",
       "      <th>4</th>\n",
       "      <td>3200 MHz</td>\n",
       "      <td>1 - 2 kg</td>\n",
       "      <td>15,6 inç</td>\n",
       "      <td>GDDR5</td>\n",
       "      <td>2 GB</td>\n",
       "      <td>Harici Ekran Kartı</td>\n",
       "      <td>LED</td>\n",
       "      <td>10. Nesil</td>\n",
       "      <td>1035G1</td>\n",
       "      <td>Windows 10 Home</td>\n",
       "      <td>Yok</td>\n",
       "      <td>0</td>\n",
       "      <td>3,6 GHz</td>\n",
       "      <td>1920 x 1080</td>\n",
       "      <td>Yok</td>\n",
       "      <td>12 GB</td>\n",
       "      <td>1 TB</td>\n",
       "      <td>Notebook</td>\n",
       "      <td>Düşük</td>\n",
       "    </tr>\n",
       "  </tbody>\n",
       "</table>\n",
       "</div>"
      ],
      "text/plain": [
       "  Bellek Hızı Cihaz Ağırlığı Ekran Boyutu Ekran Kartı Bellek Tipi  \\\n",
       "0    1066 MHz            NaN       10 inç                     NaN   \n",
       "1    1066 MHz            NaN       10 inç                     NaN   \n",
       "2    1066 MHz            NaN       10 inç                     NaN   \n",
       "3    3200 MHz       1 - 2 kg     15,6 inç                   GDDR4   \n",
       "4    3200 MHz       1 - 2 kg     15,6 inç                   GDDR5   \n",
       "\n",
       "  Ekran Kartı Hafızası    Ekran Kartı Tipi Ekran Panel Tipi İşlemci Nesli  \\\n",
       "0                 1 GB                 NaN              IPS       1.Nesil   \n",
       "1                 1 GB                 NaN              IPS       1.Nesil   \n",
       "2                 1 GB                 NaN              IPS       1.Nesil   \n",
       "3                 2 GB  Harici Ekran Kartı              LED     10. Nesil   \n",
       "4                 2 GB  Harici Ekran Kartı              LED     10. Nesil   \n",
       "\n",
       "  İşlemci  İşletim Sistemi Kart Okuyucu  Aydınlatma Maksimum İşlemci Hızı  \\\n",
       "0   1000M          Android          NaN           0              1,05 GHz   \n",
       "1   1000M          Android          NaN           0              1,05 GHz   \n",
       "2   1000M          Android          NaN           0              1,05 GHz   \n",
       "3  1035G1  Windows 10 Home          Var           0               3,6 GHz   \n",
       "4  1035G1  Windows 10 Home          Yok           0               3,6 GHz   \n",
       "\n",
       "  Max Ekran Çözünürlüğü Parmak İzi Okuyucu Ram (Sistem Belleği)  \\\n",
       "0                   NaN                NaN                  NaN   \n",
       "1                   NaN                NaN                  NaN   \n",
       "2                   NaN                NaN                  NaN   \n",
       "3           1920 x 1080                Yok                 8 GB   \n",
       "4           1920 x 1080                Yok                12 GB   \n",
       "\n",
       "  SSD Kapasitesi Ürün Modeli       Fiyat  \n",
       "0           1 TB    Notebook  Çok Yüksek  \n",
       "1           1 TB    Notebook  Çok Yüksek  \n",
       "2           1 TB    Notebook        Orta  \n",
       "3         512 GB    Notebook       Düşük  \n",
       "4           1 TB    Notebook       Düşük  "
      ]
     },
     "execution_count": 8,
     "metadata": {},
     "output_type": "execute_result"
    }
   ],
   "source": [
    "org_data = pd.read_excel('data.xlsx')\n",
    "#data = org_data.copy()\n",
    "org_data.head()\n"
   ]
  },
  {
   "cell_type": "markdown",
   "metadata": {},
   "source": [
    "## Preprocessing"
   ]
  },
  {
   "cell_type": "code",
   "execution_count": 14,
   "metadata": {},
   "outputs": [],
   "source": [
    "df = org_data.copy()"
   ]
  },
  {
   "cell_type": "markdown",
   "metadata": {},
   "source": [
    "## Boş Verileri Tamamlama"
   ]
  },
  {
   "cell_type": "code",
   "execution_count": 33,
   "metadata": {},
   "outputs": [],
   "source": [
    "df[\"Bellek Hızı\"].fillna(value=\"3200 MHz\", inplace=True)\n",
    "df[\"Cihaz Ağırlığı\"].fillna(value=\"1 - 2 kg\", inplace=True)\n",
    "df[\"Ekran Boyutu\"].fillna(value=\"15,6 inç\", inplace=True)\n",
    "df[\"Ekran Kartı Bellek Tipi\"].fillna(value=\"Onboard\", inplace=True)\n",
    "df[\"Ekran Kartı Hafızası\"].fillna(value=\"Paylaşımlı\", inplace=True)\n",
    "df[\"Ekran Kartı Tipi\"].fillna(value=\"Dahili Ekran Kartı\", inplace=True)\n",
    "df[\"Ekran Panel Tipi\"].fillna(value=\"IPS\", inplace=True)\n",
    "df[\"İşlemci Nesli\"].fillna(value=\"11.Nesil\", inplace=True)\n",
    "df[\"İşlemci\"].fillna(value=\"1135G7\", inplace=True)\n",
    "df[\"İşletim Sistemi\"].fillna(value=\"Yok (Free Dos)\", inplace=True)\n",
    "df[\"Kart Okuyucu\"].fillna(value=\"Var\", inplace=True)\n",
    "df[\"Aydınlatma\"].fillna(value=0, inplace=True)\n",
    "df[\"Maksimum İşlemci Hızı\"].fillna(value=\"4,7 GHz\", inplace=True)\n",
    "df[\"Max Ekran Çözünürlüğü\"].fillna(value=\"1920 x 1080\", inplace=True)\n",
    "df[\"Parmak İzi Okuyucu\"].fillna(value=\"Yok\", inplace=True)\n",
    "df[\"Ram (Sistem Belleği)\"].fillna(value=\"16 GB\", inplace=True)\n",
    "df[\"SSD Kapasitesi\"].fillna(value=\"512 GB\", inplace=True)\n",
    "df[\"Ürün Modeli\"].fillna(value=\"Notebook\", inplace=True)\n",
    "df[\"Fiyat\"].fillna(value=\"Düşük\", inplace=True)\n",
    "\n"
   ]
  },
  {
   "cell_type": "code",
   "execution_count": null,
   "metadata": {},
   "outputs": [],
   "source": [
    "def fill_value(data):\n",
    "    return"
   ]
  },
  {
   "cell_type": "code",
   "execution_count": 12,
   "metadata": {},
   "outputs": [],
   "source": [
    "def preprocess(data):\n",
    "    \n",
    "    return"
   ]
  },
  {
   "cell_type": "code",
   "execution_count": null,
   "metadata": {},
   "outputs": [],
   "source": []
  }
 ],
 "metadata": {
  "kernelspec": {
   "display_name": "Python 3",
   "language": "python",
   "name": "python3"
  },
  "language_info": {
   "codemirror_mode": {
    "name": "ipython",
    "version": 3
   },
   "file_extension": ".py",
   "mimetype": "text/x-python",
   "name": "python",
   "nbconvert_exporter": "python",
   "pygments_lexer": "ipython3",
   "version": "3.11.3"
  }
 },
 "nbformat": 4,
 "nbformat_minor": 2
}
